{
  "nbformat": 4,
  "nbformat_minor": 0,
  "metadata": {
    "colab": {
      "name": "project_quora _spam_filter.ipynb",
      "provenance": []
    },
    "kernelspec": {
      "display_name": "Python 3",
      "language": "python",
      "name": "python3"
    },
    "language_info": {
      "codemirror_mode": {
        "name": "ipython",
        "version": 3
      },
      "file_extension": ".py",
      "mimetype": "text/x-python",
      "name": "python",
      "nbconvert_exporter": "python",
      "pygments_lexer": "ipython3",
      "version": "3.7.3"
    },
    "accelerator": "GPU"
  },
  "cells": [
    {
      "cell_type": "code",
      "metadata": {
        "id": "zjbamNLUCGlx"
      },
      "source": [
        "%tensorflow_version 2.x"
      ],
      "execution_count": 1,
      "outputs": []
    },
    {
      "cell_type": "code",
      "metadata": {
        "id": "KRL-AANU2XxY"
      },
      "source": [
        "import pandas as pd\n",
        "import numpy as np\n",
        "import tensorflow as tf\n"
      ],
      "execution_count": 2,
      "outputs": []
    },
    {
      "cell_type": "code",
      "metadata": {
        "id": "tMEQDwDxCmph"
      },
      "source": [
        "##!wget https://www.dropbox.com/s/kfye28it99g9j12/imdb_labelled.txt"
      ],
      "execution_count": null,
      "outputs": []
    },
    {
      "cell_type": "code",
      "metadata": {
        "id": "jcSlGNCcCs4q"
      },
      "source": [
        "file=r'/content/train.csv'"
      ],
      "execution_count": 3,
      "outputs": []
    },
    {
      "cell_type": "code",
      "metadata": {
        "id": "x9rqtHhrDAJk"
      },
      "source": [
        "import pandas as pd\n",
        "imdb = pd.read_csv(file)"
      ],
      "execution_count": 4,
      "outputs": []
    },
    {
      "cell_type": "code",
      "metadata": {
        "id": "u8cim-0gnS-c",
        "colab": {
          "base_uri": "https://localhost:8080/",
          "height": 195
        },
        "outputId": "b2fd1cb8-91c1-450a-9c8d-e04bf8bdf757"
      },
      "source": [
        "imdb.head()"
      ],
      "execution_count": 5,
      "outputs": [
        {
          "output_type": "execute_result",
          "data": {
            "text/html": [
              "<div>\n",
              "<style scoped>\n",
              "    .dataframe tbody tr th:only-of-type {\n",
              "        vertical-align: middle;\n",
              "    }\n",
              "\n",
              "    .dataframe tbody tr th {\n",
              "        vertical-align: top;\n",
              "    }\n",
              "\n",
              "    .dataframe thead th {\n",
              "        text-align: right;\n",
              "    }\n",
              "</style>\n",
              "<table border=\"1\" class=\"dataframe\">\n",
              "  <thead>\n",
              "    <tr style=\"text-align: right;\">\n",
              "      <th></th>\n",
              "      <th>qid</th>\n",
              "      <th>question_text</th>\n",
              "      <th>target</th>\n",
              "    </tr>\n",
              "  </thead>\n",
              "  <tbody>\n",
              "    <tr>\n",
              "      <th>0</th>\n",
              "      <td>00002165364db923c7e6</td>\n",
              "      <td>How did Quebec nationalists see their province...</td>\n",
              "      <td>0.0</td>\n",
              "    </tr>\n",
              "    <tr>\n",
              "      <th>1</th>\n",
              "      <td>000032939017120e6e44</td>\n",
              "      <td>Do you have an adopted dog, how would you enco...</td>\n",
              "      <td>0.0</td>\n",
              "    </tr>\n",
              "    <tr>\n",
              "      <th>2</th>\n",
              "      <td>0000412ca6e4628ce2cf</td>\n",
              "      <td>Why does velocity affect time? Does velocity a...</td>\n",
              "      <td>0.0</td>\n",
              "    </tr>\n",
              "    <tr>\n",
              "      <th>3</th>\n",
              "      <td>000042bf85aa498cd78e</td>\n",
              "      <td>How did Otto von Guericke used the Magdeburg h...</td>\n",
              "      <td>0.0</td>\n",
              "    </tr>\n",
              "    <tr>\n",
              "      <th>4</th>\n",
              "      <td>0000455dfa3e01eae3af</td>\n",
              "      <td>Can I convert montra helicon D to a mountain b...</td>\n",
              "      <td>0.0</td>\n",
              "    </tr>\n",
              "  </tbody>\n",
              "</table>\n",
              "</div>"
            ],
            "text/plain": [
              "                    qid  ... target\n",
              "0  00002165364db923c7e6  ...    0.0\n",
              "1  000032939017120e6e44  ...    0.0\n",
              "2  0000412ca6e4628ce2cf  ...    0.0\n",
              "3  000042bf85aa498cd78e  ...    0.0\n",
              "4  0000455dfa3e01eae3af  ...    0.0\n",
              "\n",
              "[5 rows x 3 columns]"
            ]
          },
          "metadata": {
            "tags": []
          },
          "execution_count": 5
        }
      ]
    },
    {
      "cell_type": "code",
      "metadata": {
        "id": "JcvZxlt_DMiN"
      },
      "source": [
        "# you can download glove embeddings from here directly using wget\n",
        "# just copy the link for the embeddings that you want to use \n",
        "# https://nlp.stanford.edu/projects/glove/"
      ],
      "execution_count": null,
      "outputs": []
    },
    {
      "cell_type": "code",
      "metadata": {
        "id": "YwZiRG6NDOHB",
        "colab": {
          "base_uri": "https://localhost:8080/"
        },
        "outputId": "785b6a3d-0597-440c-bc03-3fb947a8c75f"
      },
      "source": [
        "!wget http://nlp.stanford.edu/data/glove.42B.300d.zip\n",
        "# downloading and unzipping will take some time "
      ],
      "execution_count": 6,
      "outputs": [
        {
          "output_type": "stream",
          "text": [
            "--2020-11-23 07:56:51--  http://nlp.stanford.edu/data/glove.42B.300d.zip\n",
            "Resolving nlp.stanford.edu (nlp.stanford.edu)... 171.64.67.140\n",
            "Connecting to nlp.stanford.edu (nlp.stanford.edu)|171.64.67.140|:80... connected.\n",
            "HTTP request sent, awaiting response... 302 Found\n",
            "Location: https://nlp.stanford.edu/data/glove.42B.300d.zip [following]\n",
            "--2020-11-23 07:56:51--  https://nlp.stanford.edu/data/glove.42B.300d.zip\n",
            "Connecting to nlp.stanford.edu (nlp.stanford.edu)|171.64.67.140|:443... connected.\n",
            "HTTP request sent, awaiting response... 301 Moved Permanently\n",
            "Location: http://downloads.cs.stanford.edu/nlp/data/glove.42B.300d.zip [following]\n",
            "--2020-11-23 07:56:52--  http://downloads.cs.stanford.edu/nlp/data/glove.42B.300d.zip\n",
            "Resolving downloads.cs.stanford.edu (downloads.cs.stanford.edu)... 171.64.64.22\n",
            "Connecting to downloads.cs.stanford.edu (downloads.cs.stanford.edu)|171.64.64.22|:80... connected.\n",
            "HTTP request sent, awaiting response... 200 OK\n",
            "Length: 1877800501 (1.7G) [application/zip]\n",
            "Saving to: ‘glove.42B.300d.zip’\n",
            "\n",
            "glove.42B.300d.zip  100%[===================>]   1.75G  2.00MB/s    in 14m 32s \n",
            "\n",
            "2020-11-23 08:11:24 (2.05 MB/s) - ‘glove.42B.300d.zip’ saved [1877800501/1877800501]\n",
            "\n"
          ],
          "name": "stdout"
        }
      ]
    },
    {
      "cell_type": "code",
      "metadata": {
        "id": "vUh2tv-0EDyg",
        "colab": {
          "base_uri": "https://localhost:8080/"
        },
        "outputId": "faf4be4a-2937-4f32-929e-ae4ef53c32c1"
      },
      "source": [
        "!unzip /content/glove.42B.300d.zip"
      ],
      "execution_count": 7,
      "outputs": [
        {
          "output_type": "stream",
          "text": [
            "Archive:  /content/glove.42B.300d.zip\n",
            "  inflating: glove.42B.300d.txt      \n"
          ],
          "name": "stdout"
        }
      ]
    },
    {
      "cell_type": "code",
      "metadata": {
        "id": "qatTCa5nMlNQ"
      },
      "source": [
        "!rm /content/glove.42B.300d.zip"
      ],
      "execution_count": 8,
      "outputs": []
    },
    {
      "cell_type": "code",
      "metadata": {
        "id": "0B2T2Zw3OAX6"
      },
      "source": [
        "import numpy as np"
      ],
      "execution_count": 9,
      "outputs": []
    },
    {
      "cell_type": "code",
      "metadata": {
        "id": "iGhI-CNdNiWi"
      },
      "source": [
        "embeding_index={}\n",
        "\n",
        "f=open('glove.42B.300d.txt',encoding='utf-8')\n",
        "\n",
        "for line in f:\n",
        "    values=line.split()\n",
        "    word=values[0]\n",
        "    coefs=np.asarray(values[1:],dtype='float32')\n",
        "    embeding_index[word]=coefs\n",
        "f.close()\n",
        "# this again will take good amount of time"
      ],
      "execution_count": 10,
      "outputs": []
    },
    {
      "cell_type": "code",
      "metadata": {
        "id": "zyadduDNN845"
      },
      "source": [
        "from sklearn.model_selection import train_test_split\n",
        "data_train,data_test=train_test_split(imdb,test_size=0.2)"
      ],
      "execution_count": 11,
      "outputs": []
    },
    {
      "cell_type": "code",
      "metadata": {
        "id": "CZLYuvJCOrkC"
      },
      "source": [
        "x_train=data_train['question_text']\n",
        "y_train=data_train['target']\n",
        "x_test=data_test['question_text']\n",
        "y_test=data_test['target']"
      ],
      "execution_count": 12,
      "outputs": []
    },
    {
      "cell_type": "code",
      "metadata": {
        "id": "-ovULZ8ZO8Qo"
      },
      "source": [
        "from tensorflow.keras.preprocessing.text import Tokenizer\n",
        "from tensorflow.keras.preprocessing import sequence\n",
        "from tensorflow.keras.layers import LSTM,Activation,Dense,Input,Embedding,Dropout\n",
        "from tensorflow.keras.models import Model"
      ],
      "execution_count": 13,
      "outputs": []
    },
    {
      "cell_type": "code",
      "metadata": {
        "id": "uiFAa3HTPcPr"
      },
      "source": [
        "from nltk import word_tokenize"
      ],
      "execution_count": 14,
      "outputs": []
    },
    {
      "cell_type": "code",
      "metadata": {
        "id": "f9QbkGveQBSl",
        "colab": {
          "base_uri": "https://localhost:8080/"
        },
        "outputId": "9255df2c-d5b2-4587-9b2f-66b956bfc9b5"
      },
      "source": [
        "import nltk\n",
        "nltk.download('punkt')"
      ],
      "execution_count": 15,
      "outputs": [
        {
          "output_type": "stream",
          "text": [
            "[nltk_data] Downloading package punkt to /root/nltk_data...\n",
            "[nltk_data]   Unzipping tokenizers/punkt.zip.\n"
          ],
          "name": "stdout"
        },
        {
          "output_type": "execute_result",
          "data": {
            "text/plain": [
              "True"
            ]
          },
          "metadata": {
            "tags": []
          },
          "execution_count": 15
        }
      ]
    },
    {
      "cell_type": "code",
      "metadata": {
        "colab": {
          "base_uri": "https://localhost:8080/"
        },
        "id": "PljXOmbzRDCu",
        "outputId": "9c0dfba7-4372-4852-e0c1-7fdf5e2498bd"
      },
      "source": [
        "x_train"
      ],
      "execution_count": 16,
      "outputs": [
        {
          "output_type": "execute_result",
          "data": {
            "text/plain": [
              "448038     How does a INFJ know when they have completed ...\n",
              "919345     What is the correct saying, \" the wisdom of So...\n",
              "725775               When did you start to find your own VA?\n",
              "1106351                        What yoga mat should you get?\n",
              "157806     Are there examples of pseudo-science litterature?\n",
              "                                 ...                        \n",
              "984012     Have you ever been lost and asked the wrong pe...\n",
              "1093352    In Top Gun, why did the jets run out of fuel s...\n",
              "1275202    How do I know if I am not editing my photos to...\n",
              "429209     What are the chemical properties of potassium ...\n",
              "624506     How will you handle strategies that aren't wor...\n",
              "Name: question_text, Length: 1032098, dtype: object"
            ]
          },
          "metadata": {
            "tags": []
          },
          "execution_count": 16
        }
      ]
    },
    {
      "cell_type": "code",
      "metadata": {
        "id": "Lasgr0rsSHTX"
      },
      "source": [
        "y = x_train.head()"
      ],
      "execution_count": 17,
      "outputs": []
    },
    {
      "cell_type": "code",
      "metadata": {
        "colab": {
          "base_uri": "https://localhost:8080/"
        },
        "id": "HMrrcp_fSLMz",
        "outputId": "f472fe05-8512-43ad-cc4e-1a80be00b186"
      },
      "source": [
        "for index,element in y.items():\n",
        "  print(index)"
      ],
      "execution_count": 18,
      "outputs": [
        {
          "output_type": "stream",
          "text": [
            "448038\n",
            "919345\n",
            "725775\n",
            "1106351\n",
            "157806\n"
          ],
          "name": "stdout"
        }
      ]
    },
    {
      "cell_type": "code",
      "metadata": {
        "id": "MW2d2DU3Px1C"
      },
      "source": [
        "sent_lens = []\n",
        "errored_sents = []\n",
        "for index,element in x_train.items():\n",
        "    try:\n",
        "        sent_lens.append(len(word_tokenize(element)))\n",
        "    except:\n",
        "        \n",
        "        errored_sents.append(index)\n",
        "    \n",
        "\n",
        "\n",
        "#sent_lens=[len(word_tokenize(x)) for x in x_train]"
      ],
      "execution_count": 19,
      "outputs": []
    },
    {
      "cell_type": "code",
      "metadata": {
        "colab": {
          "base_uri": "https://localhost:8080/"
        },
        "id": "I8P5-6QZR6sd",
        "outputId": "b5007547-cec3-4cfd-cfce-ca1cafa5e69d"
      },
      "source": [
        "errored_sents"
      ],
      "execution_count": 20,
      "outputs": [
        {
          "output_type": "execute_result",
          "data": {
            "text/plain": [
              "[1290122]"
            ]
          },
          "metadata": {
            "tags": []
          },
          "execution_count": 20
        }
      ]
    },
    {
      "cell_type": "code",
      "metadata": {
        "id": "7vQ4VfOKP16v",
        "colab": {
          "base_uri": "https://localhost:8080/"
        },
        "outputId": "3c6f66bf-a7ee-4601-dd19-28f5ed6cb88e"
      },
      "source": [
        "np.percentile(sent_lens,95)"
      ],
      "execution_count": 21,
      "outputs": [
        {
          "output_type": "execute_result",
          "data": {
            "text/plain": [
              "31.0"
            ]
          },
          "metadata": {
            "tags": []
          },
          "execution_count": 21
        }
      ]
    },
    {
      "cell_type": "code",
      "metadata": {
        "colab": {
          "base_uri": "https://localhost:8080/"
        },
        "id": "IKUSWvRKTpyj",
        "outputId": "161d9b0a-e986-41e5-8cfc-deed578af5cc"
      },
      "source": [
        "type(x_train)"
      ],
      "execution_count": 22,
      "outputs": [
        {
          "output_type": "execute_result",
          "data": {
            "text/plain": [
              "pandas.core.series.Series"
            ]
          },
          "metadata": {
            "tags": []
          },
          "execution_count": 22
        }
      ]
    },
    {
      "cell_type": "code",
      "metadata": {
        "id": "lI69j0AoTjNZ"
      },
      "source": [
        "x_train = x_train.drop(1290122,axis=0)\n",
        "y_train = y_train.drop(1290122,axis=0)"
      ],
      "execution_count": 23,
      "outputs": []
    },
    {
      "cell_type": "code",
      "metadata": {
        "id": "dEkUd6Z4QICh"
      },
      "source": [
        "max_len=31\n",
        "\n",
        "tk=Tokenizer(char_level=False,split=' ')\n",
        "\n",
        "tk.fit_on_texts(x_train)\n",
        "\n",
        "seq_train=tk.texts_to_sequences(x_train)\n",
        "seq_test=tk.texts_to_sequences(x_test)\n",
        "\n",
        "vocab_size=len(tk.word_index)\n",
        "\n",
        "seq_train_matrix=sequence.pad_sequences(seq_train,maxlen=max_len)\n",
        "seq_test_matrix=sequence.pad_sequences(seq_test,maxlen=max_len)"
      ],
      "execution_count": 24,
      "outputs": []
    },
    {
      "cell_type": "code",
      "metadata": {
        "colab": {
          "base_uri": "https://localhost:8080/"
        },
        "id": "NpadOcQST_WE",
        "outputId": "3e4e556f-c674-4871-957c-f11897cfb955"
      },
      "source": [
        "seq_train_matrix.shape,seq_test_matrix.shape,vocab_size"
      ],
      "execution_count": 25,
      "outputs": [
        {
          "output_type": "execute_result",
          "data": {
            "text/plain": [
              "((1032097, 31), (258025, 31), 194804)"
            ]
          },
          "metadata": {
            "tags": []
          },
          "execution_count": 25
        }
      ]
    },
    {
      "cell_type": "code",
      "metadata": {
        "id": "2jPWTHYZQQ_V"
      },
      "source": [
        "# creating our own embedding matrix to bring down the size to 300\n",
        "# we'll use 300 D vector representation of the words from pretrained embedding index \n",
        "# that we downloaded \n",
        "\n",
        "embedding_matrix=np.zeros((vocab_size+1,300))\n",
        "\n",
        "for word,i in tk.word_index.items():\n",
        "    embed_vector=embeding_index.get(word)\n",
        "    if embed_vector is not None:\n",
        "        embedding_matrix[i]=embed_vector\n",
        "        \n",
        "# if there are specific words which are not present in pretrained embedding \n",
        "# their weights will remain 0. if there are too many such words \n",
        "# then you should probably not use pretrained embeddings "
      ],
      "execution_count": 26,
      "outputs": []
    },
    {
      "cell_type": "code",
      "metadata": {
        "colab": {
          "base_uri": "https://localhost:8080/"
        },
        "id": "CFl6fqqMUQkD",
        "outputId": "bbf70631-4a67-40c0-e9b2-166a047c95a7"
      },
      "source": [
        "embedding_matrix"
      ],
      "execution_count": 27,
      "outputs": [
        {
          "output_type": "execute_result",
          "data": {
            "text/plain": [
              "array([[ 0.        ,  0.        ,  0.        , ...,  0.        ,\n",
              "         0.        ,  0.        ],\n",
              "       [-0.20838   , -0.14932001, -0.017528  , ..., -0.54066002,\n",
              "         0.21199   , -0.0094357 ],\n",
              "       [ 0.13877   , -0.0021201 , -0.091039  , ...,  0.024614  ,\n",
              "         0.46514001,  0.11363   ],\n",
              "       ...,\n",
              "       [ 0.        ,  0.        ,  0.        , ...,  0.        ,\n",
              "         0.        ,  0.        ],\n",
              "       [ 0.003073  ,  0.19486   , -0.1319    , ..., -0.23131   ,\n",
              "         0.35293999, -0.2428    ],\n",
              "       [ 0.        ,  0.        ,  0.        , ...,  0.        ,\n",
              "         0.        ,  0.        ]])"
            ]
          },
          "metadata": {
            "tags": []
          },
          "execution_count": 27
        }
      ]
    },
    {
      "cell_type": "code",
      "metadata": {
        "id": "Dr0XNGH_QW06"
      },
      "source": [
        "# Now while creating the model for text data , we'll keep embedding layer weights \n",
        "# non-trainable as we are supplying those values from our end \n",
        "\n",
        "inputs=Input(name='text_input',shape=[max_len])\n",
        "embed=Embedding(vocab_size+1,300,input_length=max_len,mask_zero=True,\n",
        "                weights=[embedding_matrix],trainable=False)(inputs)\n",
        "lstm_layer=LSTM(50)(embed)\n",
        "dense1=Dense(10,activation='relu')(lstm_layer)\n",
        "drop=Dropout(0.2)(dense1)\n",
        "final_layer=Dense(1,activation='sigmoid')(drop)\n",
        "\n",
        "model=Model(inputs=inputs,outputs=final_layer)"
      ],
      "execution_count": 28,
      "outputs": []
    },
    {
      "cell_type": "code",
      "metadata": {
        "id": "AUUczN4jQfET",
        "colab": {
          "base_uri": "https://localhost:8080/"
        },
        "outputId": "86b4b459-929f-4bdb-ddf5-521e0c0a7396"
      },
      "source": [
        "# you can see that bulk of the weights come from embedding layer\n",
        "# using pretrained weights for the same , brings down number of trainable parameters \n",
        "# by a huge amount. This in turn results in pretty short training times \n",
        "model.summary()"
      ],
      "execution_count": 29,
      "outputs": [
        {
          "output_type": "stream",
          "text": [
            "Model: \"functional_1\"\n",
            "_________________________________________________________________\n",
            "Layer (type)                 Output Shape              Param #   \n",
            "=================================================================\n",
            "text_input (InputLayer)      [(None, 31)]              0         \n",
            "_________________________________________________________________\n",
            "embedding (Embedding)        (None, 31, 300)           58441500  \n",
            "_________________________________________________________________\n",
            "lstm (LSTM)                  (None, 50)                70200     \n",
            "_________________________________________________________________\n",
            "dense (Dense)                (None, 10)                510       \n",
            "_________________________________________________________________\n",
            "dropout (Dropout)            (None, 10)                0         \n",
            "_________________________________________________________________\n",
            "dense_1 (Dense)              (None, 1)                 11        \n",
            "=================================================================\n",
            "Total params: 58,512,221\n",
            "Trainable params: 70,721\n",
            "Non-trainable params: 58,441,500\n",
            "_________________________________________________________________\n"
          ],
          "name": "stdout"
        }
      ]
    },
    {
      "cell_type": "code",
      "metadata": {
        "id": "0og_nr2aQiMU"
      },
      "source": [
        "model.compile(optimizer='adam',loss='binary_crossentropy',metrics=['accuracy'])"
      ],
      "execution_count": 30,
      "outputs": []
    },
    {
      "cell_type": "code",
      "metadata": {
        "colab": {
          "base_uri": "https://localhost:8080/"
        },
        "id": "eiPCfyqBUk4q",
        "outputId": "eb36f14d-a16e-48ef-e172-43c8e178ea6d"
      },
      "source": [
        "y_train.value_counts(),37981*12"
      ],
      "execution_count": 31,
      "outputs": [
        {
          "output_type": "execute_result",
          "data": {
            "text/plain": [
              "(0.0    968238\n",
              " 1.0     63859\n",
              " Name: target, dtype: int64, 455772)"
            ]
          },
          "metadata": {
            "tags": []
          },
          "execution_count": 31
        }
      ]
    },
    {
      "cell_type": "code",
      "metadata": {
        "id": "oa3SBtPBQrnh",
        "colab": {
          "base_uri": "https://localhost:8080/"
        },
        "outputId": "f99b8adc-9fa8-42de-dff5-8501528a0e82"
      },
      "source": [
        "model.fit(seq_train_matrix,y_train.values,validation_data=[seq_test_matrix,y_test.values],epochs=40,class_weight={0:1,1:12},batch_size=1024)"
      ],
      "execution_count": 32,
      "outputs": [
        {
          "output_type": "stream",
          "text": [
            "Epoch 1/40\n",
            "1008/1008 [==============================] - 87s 86ms/step - loss: 0.5216 - accuracy: 0.8844 - val_loss: 0.0000e+00 - val_accuracy: 0.0000e+00\n",
            "Epoch 2/40\n",
            "1008/1008 [==============================] - 89s 88ms/step - loss: 0.4528 - accuracy: 0.8995 - val_loss: 0.0000e+00 - val_accuracy: 0.0000e+00\n",
            "Epoch 3/40\n",
            "1008/1008 [==============================] - 86s 85ms/step - loss: 0.4252 - accuracy: 0.9041 - val_loss: 0.0000e+00 - val_accuracy: 0.0000e+00\n",
            "Epoch 4/40\n",
            "1008/1008 [==============================] - 86s 85ms/step - loss: 0.4041 - accuracy: 0.9063 - val_loss: 0.0000e+00 - val_accuracy: 0.0000e+00\n",
            "Epoch 5/40\n",
            "1008/1008 [==============================] - 87s 86ms/step - loss: 0.3872 - accuracy: 0.9075 - val_loss: 0.0000e+00 - val_accuracy: 0.0000e+00\n",
            "Epoch 6/40\n",
            "1008/1008 [==============================] - 86s 85ms/step - loss: 0.3689 - accuracy: 0.9096 - val_loss: 0.0000e+00 - val_accuracy: 0.0000e+00\n",
            "Epoch 7/40\n",
            "1008/1008 [==============================] - 86s 86ms/step - loss: 0.3548 - accuracy: 0.9102 - val_loss: 0.0000e+00 - val_accuracy: 0.0000e+00\n",
            "Epoch 8/40\n",
            "1008/1008 [==============================] - 86s 85ms/step - loss: 0.3398 - accuracy: 0.9110 - val_loss: 0.0000e+00 - val_accuracy: 0.0000e+00\n",
            "Epoch 9/40\n",
            "1008/1008 [==============================] - 85s 84ms/step - loss: 0.3264 - accuracy: 0.9118 - val_loss: 0.0000e+00 - val_accuracy: 0.0000e+00\n",
            "Epoch 10/40\n",
            "1008/1008 [==============================] - 85s 84ms/step - loss: 0.3138 - accuracy: 0.9132 - val_loss: 0.0000e+00 - val_accuracy: 0.0000e+00\n",
            "Epoch 11/40\n",
            "1008/1008 [==============================] - 86s 85ms/step - loss: 0.3024 - accuracy: 0.9144 - val_loss: 0.0000e+00 - val_accuracy: 0.0000e+00\n",
            "Epoch 12/40\n",
            "1008/1008 [==============================] - 87s 86ms/step - loss: 0.2907 - accuracy: 0.9160 - val_loss: 0.0000e+00 - val_accuracy: 0.0000e+00\n",
            "Epoch 13/40\n",
            "1008/1008 [==============================] - 86s 85ms/step - loss: 0.2808 - accuracy: 0.9178 - val_loss: 0.0000e+00 - val_accuracy: 0.0000e+00\n",
            "Epoch 14/40\n",
            "1008/1008 [==============================] - 85s 84ms/step - loss: 0.2724 - accuracy: 0.9194 - val_loss: 0.0000e+00 - val_accuracy: 0.0000e+00\n",
            "Epoch 15/40\n",
            "1008/1008 [==============================] - 86s 85ms/step - loss: 0.2649 - accuracy: 0.9207 - val_loss: 0.0000e+00 - val_accuracy: 0.0000e+00\n",
            "Epoch 16/40\n",
            "1008/1008 [==============================] - 86s 85ms/step - loss: 0.2590 - accuracy: 0.9220 - val_loss: 0.0000e+00 - val_accuracy: 0.0000e+00\n",
            "Epoch 17/40\n",
            "1008/1008 [==============================] - 87s 86ms/step - loss: 0.2502 - accuracy: 0.9251 - val_loss: 0.0000e+00 - val_accuracy: 0.0000e+00\n",
            "Epoch 18/40\n",
            "1008/1008 [==============================] - 88s 88ms/step - loss: 0.2468 - accuracy: 0.9260 - val_loss: 0.0000e+00 - val_accuracy: 0.0000e+00\n",
            "Epoch 19/40\n",
            "1008/1008 [==============================] - 88s 87ms/step - loss: 0.2418 - accuracy: 0.9278 - val_loss: 0.0000e+00 - val_accuracy: 0.0000e+00\n",
            "Epoch 20/40\n",
            "1008/1008 [==============================] - 86s 86ms/step - loss: 0.2376 - accuracy: 0.9289 - val_loss: 0.0000e+00 - val_accuracy: 0.0000e+00\n",
            "Epoch 21/40\n",
            "1008/1008 [==============================] - 87s 86ms/step - loss: 0.2326 - accuracy: 0.9304 - val_loss: 0.0000e+00 - val_accuracy: 0.0000e+00\n",
            "Epoch 22/40\n",
            "1008/1008 [==============================] - 85s 84ms/step - loss: 0.2285 - accuracy: 0.9319 - val_loss: 0.0000e+00 - val_accuracy: 0.0000e+00\n",
            "Epoch 23/40\n",
            "1008/1008 [==============================] - 87s 86ms/step - loss: 0.2265 - accuracy: 0.9326 - val_loss: 0.0000e+00 - val_accuracy: 0.0000e+00\n",
            "Epoch 24/40\n",
            "1008/1008 [==============================] - 85s 84ms/step - loss: 0.2225 - accuracy: 0.9342 - val_loss: 0.0000e+00 - val_accuracy: 0.0000e+00\n",
            "Epoch 25/40\n",
            "1008/1008 [==============================] - 86s 85ms/step - loss: 0.2200 - accuracy: 0.9354 - val_loss: 0.0000e+00 - val_accuracy: 0.0000e+00\n",
            "Epoch 26/40\n",
            "1008/1008 [==============================] - 85s 85ms/step - loss: 0.2182 - accuracy: 0.9360 - val_loss: 0.0000e+00 - val_accuracy: 0.0000e+00\n",
            "Epoch 27/40\n",
            "1008/1008 [==============================] - 87s 87ms/step - loss: 0.2132 - accuracy: 0.9377 - val_loss: 0.0000e+00 - val_accuracy: 0.0000e+00\n",
            "Epoch 28/40\n",
            "1008/1008 [==============================] - 87s 86ms/step - loss: 0.2115 - accuracy: 0.9384 - val_loss: 0.0000e+00 - val_accuracy: 0.0000e+00\n",
            "Epoch 29/40\n",
            "1008/1008 [==============================] - 88s 87ms/step - loss: 0.2084 - accuracy: 0.9397 - val_loss: 0.0000e+00 - val_accuracy: 0.0000e+00\n",
            "Epoch 30/40\n",
            "1008/1008 [==============================] - 90s 89ms/step - loss: 0.2071 - accuracy: 0.9403 - val_loss: 0.0000e+00 - val_accuracy: 0.0000e+00\n",
            "Epoch 31/40\n",
            "1008/1008 [==============================] - 89s 88ms/step - loss: 0.2048 - accuracy: 0.9410 - val_loss: 0.0000e+00 - val_accuracy: 0.0000e+00\n",
            "Epoch 32/40\n",
            "1008/1008 [==============================] - 86s 86ms/step - loss: 0.2024 - accuracy: 0.9420 - val_loss: 0.0000e+00 - val_accuracy: 0.0000e+00\n",
            "Epoch 33/40\n",
            "1008/1008 [==============================] - 87s 86ms/step - loss: 0.2028 - accuracy: 0.9419 - val_loss: 0.0000e+00 - val_accuracy: 0.0000e+00\n",
            "Epoch 34/40\n",
            "1008/1008 [==============================] - 89s 88ms/step - loss: 0.1993 - accuracy: 0.9433 - val_loss: 0.0000e+00 - val_accuracy: 0.0000e+00\n",
            "Epoch 35/40\n",
            "1008/1008 [==============================] - 89s 89ms/step - loss: 0.1979 - accuracy: 0.9440 - val_loss: 0.0000e+00 - val_accuracy: 0.0000e+00\n",
            "Epoch 36/40\n",
            "1008/1008 [==============================] - 88s 88ms/step - loss: 0.1955 - accuracy: 0.9447 - val_loss: 0.0000e+00 - val_accuracy: 0.0000e+00\n",
            "Epoch 37/40\n",
            "1008/1008 [==============================] - 87s 86ms/step - loss: 0.1927 - accuracy: 0.9460 - val_loss: 0.0000e+00 - val_accuracy: 0.0000e+00\n",
            "Epoch 38/40\n",
            "1008/1008 [==============================] - 85s 85ms/step - loss: 0.1921 - accuracy: 0.9463 - val_loss: 0.0000e+00 - val_accuracy: 0.0000e+00\n",
            "Epoch 39/40\n",
            "1008/1008 [==============================] - 85s 85ms/step - loss: 0.1900 - accuracy: 0.9469 - val_loss: 0.0000e+00 - val_accuracy: 0.0000e+00\n",
            "Epoch 40/40\n",
            "1008/1008 [==============================] - 88s 87ms/step - loss: 0.1890 - accuracy: 0.9472 - val_loss: 0.0000e+00 - val_accuracy: 0.0000e+00\n"
          ],
          "name": "stdout"
        },
        {
          "output_type": "execute_result",
          "data": {
            "text/plain": [
              "<tensorflow.python.keras.callbacks.History at 0x7fa29015b198>"
            ]
          },
          "metadata": {
            "tags": []
          },
          "execution_count": 32
        }
      ]
    },
    {
      "cell_type": "code",
      "metadata": {
        "id": "wBfQvYaSQt5F"
      },
      "source": [
        "p=model.predict(seq_test_matrix)"
      ],
      "execution_count": 33,
      "outputs": []
    },
    {
      "cell_type": "code",
      "metadata": {
        "id": "CsM2jA-_R-vi",
        "colab": {
          "base_uri": "https://localhost:8080/"
        },
        "outputId": "46d258b9-3d2e-425e-9f9e-bf72bdd20d72"
      },
      "source": [
        "from sklearn.metrics import roc_auc_score\n",
        "roc_auc_score(y_test,p)"
      ],
      "execution_count": 34,
      "outputs": [
        {
          "output_type": "execute_result",
          "data": {
            "text/plain": [
              "0.9531809904554669"
            ]
          },
          "metadata": {
            "tags": []
          },
          "execution_count": 34
        }
      ]
    },
    {
      "cell_type": "code",
      "metadata": {
        "id": "JPWGvqn6SA_i"
      },
      "source": [
        ""
      ],
      "execution_count": null,
      "outputs": []
    }
  ]
}